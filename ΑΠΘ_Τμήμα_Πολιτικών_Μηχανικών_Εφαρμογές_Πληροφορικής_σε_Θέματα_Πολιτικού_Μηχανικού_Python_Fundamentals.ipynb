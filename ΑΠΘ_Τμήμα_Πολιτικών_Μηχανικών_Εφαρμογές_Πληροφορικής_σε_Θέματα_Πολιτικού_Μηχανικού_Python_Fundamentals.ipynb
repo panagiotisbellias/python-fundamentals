{
  "nbformat": 4,
  "nbformat_minor": 0,
  "metadata": {
    "colab": {
      "name": "ΑΠΘ - Τμήμα Πολιτικών Μηχανικών - Εφαρμογές Πληροφορικής σε Θέματα Πολιτικού Μηχανικού - Python Fundamentals.ipynb",
      "provenance": [],
      "authorship_tag": "ABX9TyMKufbkvl1GIY8mttPK8/M+",
      "include_colab_link": true
    },
    "kernelspec": {
      "name": "python3",
      "display_name": "Python 3"
    },
    "language_info": {
      "name": "python"
    }
  },
  "cells": [
    {
      "cell_type": "markdown",
      "metadata": {
        "id": "view-in-github",
        "colab_type": "text"
      },
      "source": [
        "<a href=\"https://colab.research.google.com/github/panagiotisbellias/python-fundamentals/blob/main/%CE%91%CE%A0%CE%98_%CE%A4%CE%BC%CE%AE%CE%BC%CE%B1_%CE%A0%CE%BF%CE%BB%CE%B9%CF%84%CE%B9%CE%BA%CF%8E%CE%BD_%CE%9C%CE%B7%CF%87%CE%B1%CE%BD%CE%B9%CE%BA%CF%8E%CE%BD_%CE%95%CF%86%CE%B1%CF%81%CE%BC%CE%BF%CE%B3%CE%AD%CF%82_%CE%A0%CE%BB%CE%B7%CF%81%CE%BF%CF%86%CE%BF%CF%81%CE%B9%CE%BA%CE%AE%CF%82_%CF%83%CE%B5_%CE%98%CE%AD%CE%BC%CE%B1%CF%84%CE%B1_%CE%A0%CE%BF%CE%BB%CE%B9%CF%84%CE%B9%CE%BA%CE%BF%CF%8D_%CE%9C%CE%B7%CF%87%CE%B1%CE%BD%CE%B9%CE%BA%CE%BF%CF%8D_Python_Fundamentals.ipynb\" target=\"_parent\"><img src=\"https://colab.research.google.com/assets/colab-badge.svg\" alt=\"Open In Colab\"/></a>"
      ]
    },
    {
      "cell_type": "markdown",
      "source": [
        "# **ΑΣΚΗΣΗ 1**\n",
        "Γράψτε έναν κώδικα Python στο Colab σημειωματάριο της Google στον οποίο ο χρήστης θα\n",
        "δίνει σε κατάλληλο πεδίο τη μετρημένη τάση ενός δοκιμίου σκυροδέματος σε ΜPa ( π.χ 16\n",
        "ΜPa, 20 ΜPa, 25 ΜPa). Η τάση αστοχίας ενός δοκιμίου σκυροδέματος να υποτεθεί ότι είναι\n",
        "ίση με 20ΜPa. Αυτή θεωρείται ως τάση αναφοράς με την οποία θα εξεταστεί ο κώδικας μας.\n",
        "Το πρόγραμμα σας πρέπει να ελέγχει τη μετρημένη τάση έναντι της τάσης αστοχίας για τρεις\n",
        "διαφορετικές καταστάσεις:\n",
        "1. Η μετρημένη τάση <16ΜPa. Σε αυτή την περίπτωση πρέπει να εκτυπώνει το μήνυμα «Μη\n",
        "αποδεκτό δοκίμιο»,\n",
        "2. Η μετρημένη τάση =20 ΜPa. Σε αυτή την περίπτωση πρέπει να εκτυπώνει το μήνυμα\n",
        "«Επανάληψη λήψης δοκιμίου»,\n",
        "3. Η μετρημένη τάση >25 ΜPa. Σε αυτή την περίπτωση πρέπει να εκτυπώνει το μήνυμα\n",
        "«Αποδεκτό δοκίμιο».\n",
        "\n",
        "**Βοήθεια**: Ίσως θέλετε να χρησιμοποιήσετε τις συναρτήσεις if / elif/ else"
      ],
      "metadata": {
        "id": "LQztdiy0Xxvm"
      }
    },
    {
      "cell_type": "code",
      "execution_count": null,
      "metadata": {
        "colab": {
          "base_uri": "https://localhost:8080/"
        },
        "id": "8EQ2D-aVXbfb",
        "outputId": "70f3abaa-9e1d-4f8b-8041-e8f3ce6c9e88"
      },
      "outputs": [
        {
          "name": "stdout",
          "output_type": "stream",
          "text": [
            "Δώστε τη μετρημένη τάση ενός δοκιμίου σκυροδέματος σε MPa (π.χ. 16 MPa, 20 MPa, 25 MPa): 21\n"
          ]
        }
      ],
      "source": [
        "MPa = int(input(\"Δώστε τη μετρημένη τάση ενός δοκιμίου σκυροδέματος σε MPa (π.χ. 16 MPa, 20 MPa, 25 MPa): \"))\n",
        "tasi_astoxias = 20 # μάλλον άχρηστη πληροφορία - ίσως θέλει ειδικές γνώσεις για κάποιον τύπο ή κανόνα\n",
        "\n",
        "if MPa < 16: # εαν η τιμή του χρήστη είναι μικρότερη του 16\n",
        "  print(\"Μη αποδεκτό δοκίμιο\") # εμφάνισε κατάλληλο μήνυμα\n",
        "elif MPa == 20: # εαν η τιμή του χρήστη είναι ίση με 20\n",
        "  print(\"Επανάληψη λήψης δοκιμίου\")\n",
        "elif MPa > 25: # εαν η τιμή του χρήστη είναι μεγαλύτερη του 25\n",
        "  print(\"Αποδεκτό δοκίμιο\")"
      ]
    },
    {
      "cell_type": "markdown",
      "source": [
        "# ΑΣΚΗΣΗ 2\n",
        "Γράψτε έναν κώδικα Python στο Colab σημειωματάριο της Google στον οποίο ο χρήστης θα\n",
        "δίνει δύο ακέραιους αριθμούς για τον αριθμό μετρήσεων διελεύσεων φορτηγών από την\n",
        "Εθνική οδό Αθηνών- Θεσσαλονίκης και για τον αριθμό μετρήσεων διελεύσεων φορτηγών\n",
        "από την Εγνατία οδό. Αν από την Εθνική οδό Αθηνών- Θεσσαλονίκης περνάνε περισσότερα\n",
        "φορτηγά τότε θα βγάζει το μήνυμα «αύξησε το προσωπικό ασφάλειας στην Εθνική οδό\n",
        "Αθηνών- Θεσσαλονίκης», ενώ διαφορετικά θα βγάζει το μήνυμα «αύξησε το προσωπικό\n",
        "ασφάλειας στην Εγνατία οδό».\n",
        "\n",
        "**Βοήθεια**: Ίσως θέλετε να χρησιμοποιήσετε την συνάρτηση if /else"
      ],
      "metadata": {
        "id": "zUBibG12BW1p"
      }
    },
    {
      "cell_type": "code",
      "source": [
        "athens_to_thessaloniki = int(input(\"Δώσε τον αριθμό μετρήσεων διελεύσεων φορτηγών από την Ε.Ο. Αθηνών - Θεσσαλονίκης: \"))\n",
        "egnatia_road = int(input(\"Δώσε τον αριθμό μετρήσεων διελεύσεων φορτηγών από την Εγνατία Οδό: \"))\n",
        "\n",
        "if athens_to_thessaloniki > egnatia_road: # εάν ο 1ος αριθμός είναι μεγαλύτερος από τον 2ο\n",
        "  print(\"Αύξησε το προσωπικό ασφαλείας στην Εθνική οδό Αθηνών-Θεσσαλονίκης!\")\n",
        "else: # αλλιώς\n",
        "  print(\"Αύξησε το προσωπικό ασφαλείας στην Εγνατία οδό!\")"
      ],
      "metadata": {
        "colab": {
          "base_uri": "https://localhost:8080/"
        },
        "id": "aKnlldWEBhxO",
        "outputId": "381e9f7c-cc4b-4ecb-f552-2c8da0069a0b"
      },
      "execution_count": null,
      "outputs": [
        {
          "output_type": "stream",
          "name": "stdout",
          "text": [
            "Δώσε τον αριθμό μετρήσεων διελεύσεων φορτηγών από την Ε.Ο. Αθηνών - Θεσσαλονίκης: 20\n",
            "Δώσε τον αριθμό μετρήσεων διελεύσεων φορτηγών από την Εγνατία Οδό: 22\n",
            "Αύξησε το προσωπικό ασφαλείας στην Εγνατία οδό!\n"
          ]
        }
      ]
    },
    {
      "cell_type": "markdown",
      "source": [
        "# ΑΣΚΗΣΗ 3\n",
        "Γράψτε έναν κώδικα Python στο Colab σημειωματάριο της Google στον οποίο ο χρήστης θα\n",
        "δίνει έναν ακέραιο αριθμό και το πρόγραμμα θα προσθέτει κάθε φορά έναν αριθμό μέχρι το\n",
        "101.\n",
        "\n",
        "**Βοήθεια**: Ίσως θέλετε να χρησιμοποιήσετε την συνάρτηση while"
      ],
      "metadata": {
        "id": "GfG9rjCLCw_U"
      }
    },
    {
      "cell_type": "code",
      "source": [
        "start = int(input(\"Δώσε έναν ακέραιο αριθμό: \"))\n",
        "\n",
        "sum = 0 # αρχικοποίηση αθροιστή\n",
        "while start <= 101: # όσο η μεταβλητή αυτή είναι μικρότερη του 101\n",
        "  sum = sum + start # or like this: sum += start\n",
        "  start = start + 1 # or like this: start += 1\n",
        "\n",
        "print(\"Το άθροισμα είναι: \", sum) # εκτύπωση αθροίσματος με τον απλό τρόπο\n",
        "\n",
        "# 2ος τρόπος\n",
        "print(f\"Το άθροισμα είναι: {sum} (2ος τρόπος)\")"
      ],
      "metadata": {
        "colab": {
          "base_uri": "https://localhost:8080/"
        },
        "id": "8g9MzRLRC15r",
        "outputId": "102fd2c1-2f4c-4d4c-fd27-665bcdcc36b5"
      },
      "execution_count": null,
      "outputs": [
        {
          "output_type": "stream",
          "name": "stdout",
          "text": [
            "Δώσε έναν ακέραιο αριθμό: 52\n",
            "Το άθροισμα είναι:  3825\n"
          ]
        }
      ]
    },
    {
      "cell_type": "markdown",
      "source": [
        "# ΑΣΚΗΣΗ 4\n",
        "Γράψτε έναν κώδικα Python στο Colab σημειωματάριο της Google στον οποίο ο χρήστης θα\n",
        "δίνει έναν ακέραιο αριθμό (<10) και το πρόγραμμα θα προσθέτει κάθε φορά έναν αριθμό\n",
        "μέχρι το 11, ενώ όταν φτάνει στο 11 θα προσθέτει σε αυτό τον αριθμό 20. Για μεγαλύτερους\n",
        "αριθμούς από το 10 θα προστίθεται αυτομάτως το 20.\n",
        "\n",
        "**Βοήθεια**: Ίσως θέλετε να χρησιμοποιήσετε την συνάρτηση while /else"
      ],
      "metadata": {
        "id": "MXehUrqxDwt7"
      }
    },
    {
      "cell_type": "code",
      "source": [
        "start = int(input(\"Δώσε έναν ακέραιο αριθμό: \"))\n",
        "\n",
        "# 1ος τρόπος\n",
        "sum = 0 # αρχικοποίηση αθροιστή\n",
        "start1 = start\n",
        "while start1 <= 11: # όσο η μεταβλητή είναι μικρότερη του 11\n",
        "  sum = sum + start1 # or sum += start1\n",
        "  start1 = start1 + 1 # or start1 += 1\n",
        "else: # αλλιώς\n",
        "  sum = sum + start1 + 20 \n",
        "\n",
        "print(\"Το άθροισμα είναι: \", sum)\n",
        "\n",
        "# 2ος τρόπος\n",
        "sum = 0 # αρχικοποίηση αθροιστή\n",
        "start2 = start\n",
        "while start2 <= 11: # όσο η μεταβλητή είναι μικρότερη του 11\n",
        "  sum = sum + start2 # or sum += start2\n",
        "  start2 = start2 + 1 # or start2 += 1\n",
        "\n",
        "if not start2 <= 11:\n",
        "  sum = sum + start2 + 20 # or sum += start2 + 20\n",
        "\n",
        "print(\"Το άθροισμα είναι: (2ος τρόπος): \", sum)"
      ],
      "metadata": {
        "colab": {
          "base_uri": "https://localhost:8080/"
        },
        "id": "PhzB1Iz2D6rh",
        "outputId": "d5e4a4a8-2aef-4ae4-c584-6f2ff9ecdd5b"
      },
      "execution_count": 2,
      "outputs": [
        {
          "output_type": "stream",
          "name": "stdout",
          "text": [
            "Δώσε έναν ακέραιο αριθμό: 12\n",
            "Το άθροισμα είναι:  32\n",
            "Το άθροισμα είναι: (2ος τρόπος):  32\n"
          ]
        }
      ]
    },
    {
      "cell_type": "markdown",
      "source": [
        "\n",
        "\n",
        "---\n",
        "Παναγιώτης Μπέλλιας  \n",
        "Προγραμματιστής & Μηχανικός Λογισμικού DevOps || Software & DevOps Engineer  \n",
        "Φοιτητής ΠΠΣ ΠΛΗΡ - 8ο εξάμηνο || Undergraduate Student IT - 8th semester\n",
        "ΧΑΡΟΚΟΠΕΙΟ ΠΑΝΕΠΙΣΤΗΜΙΟ || HAROKOPIO UNIVERSITY  \n",
        "Τμήμα Πληροφορικής και Τηλεματικής || Department of Informatics and Telematics\n",
        "www.hua.gr || https://www.dit.hua.gr || [eclass.hua.gr informatics and telematics](https://eclass.hua.gr/modules/auth/courses.php?fc=7)\n"
      ],
      "metadata": {
        "id": "fcogxLfDe_id"
      }
    }
  ]
}